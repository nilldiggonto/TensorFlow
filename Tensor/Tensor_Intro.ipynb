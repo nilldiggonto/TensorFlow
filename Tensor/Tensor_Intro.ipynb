{
  "nbformat": 4,
  "nbformat_minor": 0,
  "metadata": {
    "colab": {
      "name": "Tensor_Intro.ipynb",
      "provenance": []
    },
    "kernelspec": {
      "name": "python3",
      "display_name": "Python 3"
    }
  },
  "cells": [
    {
      "cell_type": "code",
      "metadata": {
        "id": "4mh8eQLOZ2Uj"
      },
      "source": [
        "#library\n",
        "import numpy as np\n",
        "import matplotlib.pyplot as plt\n",
        "import tensorflow as tf\n",
        "from tensorflow import keras\n"
      ],
      "execution_count": 36,
      "outputs": []
    },
    {
      "cell_type": "code",
      "metadata": {
        "id": "1VPBuNywakOZ"
      },
      "source": [
        "#dummy data\n",
        "populations = 1000\n",
        "\n",
        "x = np.random.uniform(low =-10,high=10,size=(populations,1))\n",
        "y = np.random.uniform(-10,10,size=(populations,1))"
      ],
      "execution_count": 26,
      "outputs": []
    },
    {
      "cell_type": "code",
      "metadata": {
        "colab": {
          "base_uri": "https://localhost:8080/"
        },
        "id": "embHG90ea7tf",
        "outputId": "a70f6560-b0b1-4cad-d232-f4af2ad1a10b"
      },
      "source": [
        "x.shape,y.shape"
      ],
      "execution_count": 27,
      "outputs": [
        {
          "output_type": "execute_result",
          "data": {
            "text/plain": [
              "((1000, 1), (1000, 1))"
            ]
          },
          "metadata": {
            "tags": []
          },
          "execution_count": 27
        }
      ]
    },
    {
      "cell_type": "code",
      "metadata": {
        "id": "5Su22w-ia8Ou"
      },
      "source": [
        "generated_inputs = np.column_stack((x,y))"
      ],
      "execution_count": 28,
      "outputs": []
    },
    {
      "cell_type": "code",
      "metadata": {
        "colab": {
          "base_uri": "https://localhost:8080/"
        },
        "id": "RVEL5TBLbDYX",
        "outputId": "229555d0-ad8e-45a7-c828-370e72c7c49f"
      },
      "source": [
        "generated_inputs.shape"
      ],
      "execution_count": 29,
      "outputs": [
        {
          "output_type": "execute_result",
          "data": {
            "text/plain": [
              "(1000, 2)"
            ]
          },
          "metadata": {
            "tags": []
          },
          "execution_count": 29
        }
      ]
    },
    {
      "cell_type": "code",
      "metadata": {
        "id": "4DI-TGaVbY2n"
      },
      "source": [
        "noise = np.random.uniform(-1,1,(populations,1))\n",
        "generated_targets = 2*x - 3*y + 5 +noise"
      ],
      "execution_count": 30,
      "outputs": []
    },
    {
      "cell_type": "code",
      "metadata": {
        "colab": {
          "base_uri": "https://localhost:8080/"
        },
        "id": "WxXtd9b7bbKO",
        "outputId": "afad6987-a42d-469c-974a-1eb89ef2c91e"
      },
      "source": [
        "generated_targets.shape"
      ],
      "execution_count": 31,
      "outputs": [
        {
          "output_type": "execute_result",
          "data": {
            "text/plain": [
              "(1000, 1)"
            ]
          },
          "metadata": {
            "tags": []
          },
          "execution_count": 31
        }
      ]
    },
    {
      "cell_type": "code",
      "metadata": {
        "id": "z1LypDiAb9bO"
      },
      "source": [
        "#saving into npz format\n",
        "np.savez('Tf_first',inputs = generated_inputs, targets =generated_targets)"
      ],
      "execution_count": 32,
      "outputs": []
    },
    {
      "cell_type": "code",
      "metadata": {
        "id": "Oci6Da_tcW3m"
      },
      "source": [
        "## Loading data\n",
        "dummy_data = np.load('Tf_first.npz')"
      ],
      "execution_count": 33,
      "outputs": []
    },
    {
      "cell_type": "code",
      "metadata": {
        "id": "tK6bn0sqlGCA"
      },
      "source": [
        "input_size = 2  #tow feature\n",
        "output_size = 1 #1 target\n",
        "initializer = tf.random_uniform_initializer(minval=-0.1, maxval= 0.1)\n"
      ],
      "execution_count": 76,
      "outputs": []
    },
    {
      "cell_type": "code",
      "metadata": {
        "id": "EtkFvBnzlQBg"
      },
      "source": [
        "#creating a model\n",
        "model = keras.Sequential([keras.layers.Dense(output_size,kernel_initializer=initializer, bias_initializer=initializer)])"
      ],
      "execution_count": 78,
      "outputs": []
    },
    {
      "cell_type": "code",
      "metadata": {
        "id": "CnZhQ2l8mJMf"
      },
      "source": [
        "#compile # optimization function #loss function\n",
        "#custom optimizer\n",
        "custom_optimzer = keras.optimizers.SGD(learning_rate=0.02)\n",
        "#model\n",
        "model.compile(optimizer=custom_optimzer, loss ='mean_squared_error',)"
      ],
      "execution_count": 91,
      "outputs": []
    },
    {
      "cell_type": "code",
      "metadata": {
        "colab": {
          "base_uri": "https://localhost:8080/"
        },
        "id": "L_co7H-8mmCX",
        "outputId": "9c505459-1907-456c-9423-0d08f1f1a55a"
      },
      "source": [
        "#fit the model\n",
        "model.fit(dummy_data['inputs'],dummy_data['targets'],epochs=100,verbose=0) #if verbose = 2, we could see all of the loss result"
      ],
      "execution_count": 92,
      "outputs": [
        {
          "output_type": "execute_result",
          "data": {
            "text/plain": [
              "<tensorflow.python.keras.callbacks.History at 0x7f981d44bc88>"
            ]
          },
          "metadata": {
            "tags": []
          },
          "execution_count": 92
        }
      ]
    },
    {
      "cell_type": "code",
      "metadata": {
        "id": "PQHwxikInij9"
      },
      "source": [
        "#Weights and Bias"
      ],
      "execution_count": 93,
      "outputs": []
    },
    {
      "cell_type": "code",
      "metadata": {
        "colab": {
          "base_uri": "https://localhost:8080/"
        },
        "id": "L-6rpdL4o5C1",
        "outputId": "7012b483-4c57-4aab-8c56-44350e9ee227"
      },
      "source": [
        "model.layers[0].get_weights()"
      ],
      "execution_count": 94,
      "outputs": [
        {
          "output_type": "execute_result",
          "data": {
            "text/plain": [
              "[array([[ 2.0821724],\n",
              "        [-2.9864051]], dtype=float32), array([5.0151687], dtype=float32)]"
            ]
          },
          "metadata": {
            "tags": []
          },
          "execution_count": 94
        }
      ]
    },
    {
      "cell_type": "code",
      "metadata": {
        "id": "IE-6gp4WpCuE"
      },
      "source": [
        "weights = model.layers[0].get_weights()[0]\n",
        "bias = model.layers[0].get_weights()[1]"
      ],
      "execution_count": 95,
      "outputs": []
    },
    {
      "cell_type": "code",
      "metadata": {
        "colab": {
          "base_uri": "https://localhost:8080/"
        },
        "id": "ZxM3oXPApR10",
        "outputId": "42aa8e9c-ea18-4538-92b1-4051868d53bf"
      },
      "source": [
        "weights"
      ],
      "execution_count": 96,
      "outputs": [
        {
          "output_type": "execute_result",
          "data": {
            "text/plain": [
              "array([[ 2.0821724],\n",
              "       [-2.9864051]], dtype=float32)"
            ]
          },
          "metadata": {
            "tags": []
          },
          "execution_count": 96
        }
      ]
    },
    {
      "cell_type": "code",
      "metadata": {
        "colab": {
          "base_uri": "https://localhost:8080/"
        },
        "id": "7OB2d0GXpTXM",
        "outputId": "2e4572ad-d010-4a92-a32b-772dcc16c8f3"
      },
      "source": [
        "bias"
      ],
      "execution_count": 97,
      "outputs": [
        {
          "output_type": "execute_result",
          "data": {
            "text/plain": [
              "array([5.0151687], dtype=float32)"
            ]
          },
          "metadata": {
            "tags": []
          },
          "execution_count": 97
        }
      ]
    },
    {
      "cell_type": "code",
      "metadata": {
        "colab": {
          "base_uri": "https://localhost:8080/"
        },
        "id": "Pn9wq9uZpXAk",
        "outputId": "001678e3-2e13-4eac-93c2-85d5489d2173"
      },
      "source": [
        "## Predictions\n",
        "model.predict_on_batch(dummy_data['inputs'])[:5]"
      ],
      "execution_count": 98,
      "outputs": [
        {
          "output_type": "execute_result",
          "data": {
            "text/plain": [
              "array([[ 30.967941],\n",
              "       [ 25.81535 ],\n",
              "       [-16.462267],\n",
              "       [-15.218285],\n",
              "       [ 31.063555]], dtype=float32)"
            ]
          },
          "metadata": {
            "tags": []
          },
          "execution_count": 98
        }
      ]
    },
    {
      "cell_type": "code",
      "metadata": {
        "colab": {
          "base_uri": "https://localhost:8080/"
        },
        "id": "qWE_jIZhqNVP",
        "outputId": "b75a3379-2015-4b3a-9f79-9ddf4e7b83f6"
      },
      "source": [
        "dummy_data['targets'][:5]"
      ],
      "execution_count": 99,
      "outputs": [
        {
          "output_type": "execute_result",
          "data": {
            "text/plain": [
              "array([[ 30.47455887],\n",
              "       [ 26.03381168],\n",
              "       [-17.28465194],\n",
              "       [-15.30333695],\n",
              "       [ 31.34071715]])"
            ]
          },
          "metadata": {
            "tags": []
          },
          "execution_count": 99
        }
      ]
    },
    {
      "cell_type": "code",
      "metadata": {
        "id": "7-Fh9kxiqZij"
      },
      "source": [
        "#Visulaize it"
      ],
      "execution_count": 100,
      "outputs": []
    },
    {
      "cell_type": "code",
      "metadata": {
        "colab": {
          "base_uri": "https://localhost:8080/",
          "height": 279
        },
        "id": "g0iuFeDKqf8L",
        "outputId": "e28a7376-4324-421a-c844-4b331bdbf072"
      },
      "source": [
        "plt.plot(np.squeeze(model.predict_on_batch(dummy_data['inputs'])),(np.squeeze(dummy_data['targets'])),color='teal')\n",
        "\n",
        "plt.xlabel('outputs')\n",
        "plt.ylabel('targets')\n",
        "plt.show()"
      ],
      "execution_count": 101,
      "outputs": [
        {
          "output_type": "display_data",
          "data": {
            "image/png": "[encoded data removed]",
            "text/plain": [
              "<Figure size 432x288 with 1 Axes>"
            ]
          },
          "metadata": {
            "tags": [],
            "needs_background": "light"
          }
        }
      ]
    },
    {
      "cell_type": "code",
      "metadata": {
        "id": "prKRhKLdq09T"
      },
      "source": [
        ""
      ],
      "execution_count": 101,
      "outputs": []
    }
  ]
}
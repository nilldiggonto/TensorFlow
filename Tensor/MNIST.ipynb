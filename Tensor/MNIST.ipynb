{
  "nbformat": 4,
  "nbformat_minor": 0,
  "metadata": {
    "colab": {
      "name": "MNIST.ipynb",
      "provenance": [],
      "collapsed_sections": []
    },
    "kernelspec": {
      "name": "python3",
      "display_name": "Python 3"
    }
  },
  "cells": [
    {
      "cell_type": "code",
      "metadata": {
        "id": "KXY-6rkYXve2"
      },
      "source": [
        "#lib\n",
        "import numpy as np\n",
        "import tensorflow as tf\n",
        "from tensorflow import keras"
      ],
      "execution_count": 29,
      "outputs": []
    },
    {
      "cell_type": "code",
      "metadata": {
        "id": "Kff3SRoKYQFK"
      },
      "source": [
        "#tensorflow dataset\n",
        "import tensorflow_datasets as tfds"
      ],
      "execution_count": 17,
      "outputs": []
    },
    {
      "cell_type": "code",
      "metadata": {
        "id": "5aNDUbC6Yc-n"
      },
      "source": [
        "mnist_data,mnist_info = tfds.load(name='mnist',with_info=True, as_supervised=True)"
      ],
      "execution_count": 18,
      "outputs": []
    },
    {
      "cell_type": "code",
      "metadata": {
        "colab": {
          "base_uri": "https://localhost:8080/"
        },
        "id": "gUblkUazYqyh",
        "outputId": "6af0c9c1-2618-4a5f-f390-8a7e96d2c603"
      },
      "source": [
        "mnist_info"
      ],
      "execution_count": 19,
      "outputs": [
        {
          "output_type": "execute_result",
          "data": {
            "text/plain": [
              "tfds.core.DatasetInfo(\n",
              "    name='mnist',\n",
              "    version=3.0.1,\n",
              "    description='The MNIST database of handwritten digits.',\n",
              "    homepage='http://yann.lecun.com/exdb/mnist/',\n",
              "    features=FeaturesDict({\n",
              "        'image': Image(shape=(28, 28, 1), dtype=tf.uint8),\n",
              "        'label': ClassLabel(shape=(), dtype=tf.int64, num_classes=10),\n",
              "    }),\n",
              "    total_num_examples=70000,\n",
              "    splits={\n",
              "        'test': 10000,\n",
              "        'train': 60000,\n",
              "    },\n",
              "    supervised_keys=('image', 'label'),\n",
              "    citation=\"\"\"@article{lecun2010mnist,\n",
              "      title={MNIST handwritten digit database},\n",
              "      author={LeCun, Yann and Cortes, Corinna and Burges, CJ},\n",
              "      journal={ATT Labs [Online]. Available: http://yann.lecun.com/exdb/mnist},\n",
              "      volume={2},\n",
              "      year={2010}\n",
              "    }\"\"\",\n",
              "    redistribution_info=,\n",
              ")"
            ]
          },
          "metadata": {
            "tags": []
          },
          "execution_count": 19
        }
      ]
    },
    {
      "cell_type": "code",
      "metadata": {
        "id": "yQyzEZFPYuup"
      },
      "source": [
        "mnist_train,mnist_test = mnist_data['train'],mnist_data['test']\n"
      ],
      "execution_count": 20,
      "outputs": []
    },
    {
      "cell_type": "code",
      "metadata": {
        "id": "lZqEY1BeZ5lA"
      },
      "source": [
        "\n",
        "#valid dataset\n",
        "percentage_number_for_valid = 0.1 * mnist_info.splits['train'].num_examples\n",
        "percentage_number_for_valid = tf.cast(percentage_number_for_valid,tf.int64)\n",
        "\n",
        "#test purpose\n",
        "number_test_samples = 0.1 * mnist_info.splits['test'].num_examples\n",
        "number_test_samples = tf.cast(number_test_samples,tf.int64)"
      ],
      "execution_count": 21,
      "outputs": []
    },
    {
      "cell_type": "code",
      "metadata": {
        "colab": {
          "base_uri": "https://localhost:8080/"
        },
        "id": "7PyMTA12ammo",
        "outputId": "ba038923-c1cb-4cf0-a16c-607e4747c86b"
      },
      "source": [
        "percentage_number_for_valid, number_test_samples"
      ],
      "execution_count": 22,
      "outputs": [
        {
          "output_type": "execute_result",
          "data": {
            "text/plain": [
              "(<tf.Tensor: shape=(), dtype=int64, numpy=6000>,\n",
              " <tf.Tensor: shape=(), dtype=int64, numpy=1000>)"
            ]
          },
          "metadata": {
            "tags": []
          },
          "execution_count": 22
        }
      ]
    },
    {
      "cell_type": "code",
      "metadata": {
        "id": "CJZK7vFCaqow"
      },
      "source": [
        "#creating a scaler\n",
        "def scale(image,label):\n",
        "  image = tf.cast(image,tf.float32)\n",
        "  image = image/ 255\n",
        "  return image,label"
      ],
      "execution_count": 23,
      "outputs": []
    },
    {
      "cell_type": "code",
      "metadata": {
        "id": "TzvhAtQ8bM4v"
      },
      "source": [
        "scaled_tain_and_valid_data = mnist_train.map(scale)\n",
        "test_data = mnist_test.map(scale)"
      ],
      "execution_count": 24,
      "outputs": []
    },
    {
      "cell_type": "code",
      "metadata": {
        "id": "V0bsaTenblsR"
      },
      "source": [
        "#shuffle data\n",
        "BUFFER_SIZE = 10000\n",
        "\n",
        "shuffle_train_and_valid = scaled_tain_and_valid_data.shuffle(BUFFER_SIZE)\n",
        "\n",
        "#creating new valid and train data\n",
        "validation_data = shuffle_train_and_valid.take(percentage_number_for_valid)\n",
        "train_data = shuffle_train_and_valid.skip(percentage_number_for_valid)\n"
      ],
      "execution_count": 25,
      "outputs": []
    },
    {
      "cell_type": "code",
      "metadata": {
        "id": "cqDvvy-ncw5u"
      },
      "source": [
        "#BATCH\n",
        "BATCH_SIZE = 100\n",
        "train_data = train_data.batch(BATCH_SIZE)\n",
        "validation_data = validation_data.batch(percentage_number_for_valid)\n",
        "test_data = test_data.batch(number_test_samples)"
      ],
      "execution_count": 26,
      "outputs": []
    },
    {
      "cell_type": "code",
      "metadata": {
        "id": "YLQAb6MAdCLO"
      },
      "source": [
        "validation_input, validation_traget = next(iter(validation_data))"
      ],
      "execution_count": 27,
      "outputs": []
    },
    {
      "cell_type": "code",
      "metadata": {
        "id": "84dXb-tkdtk1"
      },
      "source": [
        "### MODEL ###\n",
        "inpute_size = 784\n",
        "output_size = 10\n",
        "hidden_layer_size = 150\n",
        "\n",
        "model = tf.keras.Sequential([\n",
        "                             keras.layers.Flatten(input_shape = (28,28,1)),\n",
        "                             keras.layers.Dense(hidden_layer_size, activation='relu'),\n",
        "                             keras.layers.Dense(hidden_layer_size,activation='relu'),\n",
        "                             keras.layers.Dense(output_size, activation='softmax')\n",
        "])"
      ],
      "execution_count": 34,
      "outputs": []
    },
    {
      "cell_type": "code",
      "metadata": {
        "id": "hcjx1ttU6h3H"
      },
      "source": [
        "### OPTIMIZER ###\n",
        "model.compile(optimizer='adam',loss='sparse_categorical_crossentropy', metrics=['accuracy'])"
      ],
      "execution_count": 35,
      "outputs": []
    },
    {
      "cell_type": "code",
      "metadata": {
        "colab": {
          "base_uri": "https://localhost:8080/"
        },
        "id": "Y7PZ6ANT84Kv",
        "outputId": "6e1bb7e2-722b-4436-d82b-b188d06491ba"
      },
      "source": [
        "### TRAINING ###\n",
        "NUM_EPOCHS = 5\n",
        "\n",
        "model.fit(train_data, epochs=NUM_EPOCHS, validation_data=(validation_input,validation_traget),verbose = 2)"
      ],
      "execution_count": 36,
      "outputs": [
        {
          "output_type": "stream",
          "text": [
            "Epoch 1/5\n",
            "540/540 - 3s - loss: 0.2928 - accuracy: 0.9158 - val_loss: 0.1612 - val_accuracy: 0.9547\n",
            "Epoch 2/5\n",
            "540/540 - 3s - loss: 0.1186 - accuracy: 0.9641 - val_loss: 0.0963 - val_accuracy: 0.9717\n",
            "Epoch 3/5\n",
            "540/540 - 3s - loss: 0.0806 - accuracy: 0.9755 - val_loss: 0.0776 - val_accuracy: 0.9788\n",
            "Epoch 4/5\n",
            "540/540 - 3s - loss: 0.0632 - accuracy: 0.9797 - val_loss: 0.0640 - val_accuracy: 0.9807\n",
            "Epoch 5/5\n",
            "540/540 - 3s - loss: 0.0469 - accuracy: 0.9854 - val_loss: 0.0497 - val_accuracy: 0.9857\n"
          ],
          "name": "stdout"
        },
        {
          "output_type": "execute_result",
          "data": {
            "text/plain": [
              "<tensorflow.python.keras.callbacks.History at 0x7f63b4fca2e8>"
            ]
          },
          "metadata": {
            "tags": []
          },
          "execution_count": 36
        }
      ]
    },
    {
      "cell_type": "code",
      "metadata": {
        "colab": {
          "base_uri": "https://localhost:8080/"
        },
        "id": "VI91kSjM9eCe",
        "outputId": "988da70e-80fb-4b12-99fd-a77e1ae96ff2"
      },
      "source": [
        "### TEST ###\n",
        "test_loss, test_accuracy = model.evaluate(test_data)"
      ],
      "execution_count": 37,
      "outputs": [
        {
          "output_type": "stream",
          "text": [
            "10/10 [==============================] - 1s 102ms/step - loss: 0.0742 - accuracy: 0.9760\n"
          ],
          "name": "stdout"
        }
      ]
    },
    {
      "cell_type": "code",
      "metadata": {
        "colab": {
          "base_uri": "https://localhost:8080/"
        },
        "id": "6tqbceIq_RNe",
        "outputId": "5e486109-7828-4032-859a-101b3c254378"
      },
      "source": [
        "test_loss,test_accuracy"
      ],
      "execution_count": 38,
      "outputs": [
        {
          "output_type": "execute_result",
          "data": {
            "text/plain": [
              "(0.0742301419377327, 0.9760000109672546)"
            ]
          },
          "metadata": {
            "tags": []
          },
          "execution_count": 38
        }
      ]
    },
    {
      "cell_type": "code",
      "metadata": {
        "colab": {
          "base_uri": "https://localhost:8080/"
        },
        "id": "XuSqsU8d_Wp1",
        "outputId": "43224cbd-581d-4c23-f13c-2102b4ae9206"
      },
      "source": [
        "print(f'Test Loss: {test_loss:.2f}% \\n Test Accuracy: {test_accuracy:.2f}%')"
      ],
      "execution_count": 40,
      "outputs": [
        {
          "output_type": "stream",
          "text": [
            "Test Loss: 0.07% \n",
            " Test Accuracy: 0.98%\n"
          ],
          "name": "stdout"
        }
      ]
    },
    {
      "cell_type": "code",
      "metadata": {
        "id": "iSQFN2BF_oyB"
      },
      "source": [
        ""
      ],
      "execution_count": null,
      "outputs": []
    }
  ]
}
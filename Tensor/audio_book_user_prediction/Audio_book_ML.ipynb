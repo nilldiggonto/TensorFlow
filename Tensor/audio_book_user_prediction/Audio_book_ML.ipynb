{
  "nbformat": 4,
  "nbformat_minor": 0,
  "metadata": {
    "colab": {
      "name": "Audio_book_ML.ipynb",
      "provenance": [],
      "collapsed_sections": [],
      "toc_visible": true
    },
    "kernelspec": {
      "name": "python3",
      "display_name": "Python 3"
    }
  },
  "cells": [
    {
      "cell_type": "markdown",
      "metadata": {
        "id": "9o9f18eDVMM9"
      },
      "source": [
        "Dataset: https://www.kaggle.com/faressayah/audiobook-app-data\r\n",
        "\r\n",
        "Predicting a metrics to make sure what types of customer will come back again."
      ]
    },
    {
      "cell_type": "code",
      "metadata": {
        "id": "tPbzd92mVSZb"
      },
      "source": [
        "#lib\r\n",
        "import numpy as np\r\n",
        "import pandas as pd\r\n",
        "import matplotlib.pyplot as plt\r\n",
        "import tensorflow as tf\r\n",
        "from tensorflow import keras"
      ],
      "execution_count": 2,
      "outputs": []
    },
    {
      "cell_type": "code",
      "metadata": {
        "id": "PQpcAR6zVUNd"
      },
      "source": [
        "train_npz = np.load('/content/drive/MyDrive/Colab Notebooks/NNN/train_data.npz')"
      ],
      "execution_count": 3,
      "outputs": []
    },
    {
      "cell_type": "code",
      "metadata": {
        "id": "6SNJnYHCWSjb"
      },
      "source": [
        "train_inputs = train_npz['inputs'].astype(np.float)\r\n",
        "train_target = train_npz['targets'].astype(np.int)"
      ],
      "execution_count": 4,
      "outputs": []
    },
    {
      "cell_type": "code",
      "metadata": {
        "id": "1n8tOi9MWiFi"
      },
      "source": [
        "#valid data set\r\n",
        "valid_npz = np.load('/content/drive/MyDrive/Colab Notebooks/NNN/valid_data.npz')\r\n",
        "valid_inputs, valid_target = valid_npz['inputs'].astype(np.float), valid_npz['targets'].astype(np.int)"
      ],
      "execution_count": 5,
      "outputs": []
    },
    {
      "cell_type": "code",
      "metadata": {
        "id": "JPabJkPFW6uz"
      },
      "source": [
        "#Test Data set\r\n",
        "test_npz = np.load('/content/drive/MyDrive/Colab Notebooks/NNN/test_data.npz')\r\n",
        "test_inputs,test_target = test_npz['inputs'].astype(np.float), test_npz['targets'].astype(np.int)"
      ],
      "execution_count": 25,
      "outputs": []
    },
    {
      "cell_type": "code",
      "metadata": {
        "id": "Mrv0bISVXIvi"
      },
      "source": [
        "#### CREATING A MODEL #####\r\n",
        "input_size = 10\r\n",
        "output_size = 2\r\n",
        "hidden_layer_size = 50\r\n",
        "\r\n",
        "model = keras.Sequential([\r\n",
        "                          keras.layers.Dense(hidden_layer_size,activation='relu'),\r\n",
        "                          keras.layers.Dense(hidden_layer_size,activation='relu'),\r\n",
        "                           keras.layers.Dense(hidden_layer_size,activation='relu'),\r\n",
        "                          keras.layers.Dense(output_size,activation='softmax')\r\n",
        "\r\n",
        "])"
      ],
      "execution_count": 18,
      "outputs": []
    },
    {
      "cell_type": "code",
      "metadata": {
        "id": "sd09ELnJX3_6"
      },
      "source": [
        "##### OPTIMIZATION #####\r\n",
        "model.compile(optimizer='adam',loss='sparse_categorical_crossentropy', metrics=['accuracy'])"
      ],
      "execution_count": 19,
      "outputs": []
    },
    {
      "cell_type": "code",
      "metadata": {
        "colab": {
          "base_uri": "https://localhost:8080/"
        },
        "id": "E2q_meo0YLi5",
        "outputId": "35edcc26-3adb-4406-cc59-aeddc4689fbb"
      },
      "source": [
        "\r\n",
        "batch_size = 100\r\n",
        "max_epochs = 100\r\n",
        "\r\n",
        "early_stopping = keras.callbacks.EarlyStopping(patience=2)\r\n",
        "\r\n",
        "model.fit(train_inputs,train_target, validation_data=(valid_inputs,valid_target),\r\n",
        "          batch_size= batch_size,\r\n",
        "          epochs=max_epochs,\r\n",
        "          callbacks= [early_stopping],\r\n",
        "          verbose= 2)"
      ],
      "execution_count": 20,
      "outputs": [
        {
          "output_type": "stream",
          "text": [
            "Epoch 1/100\n",
            "36/36 - 0s - loss: 0.5792 - accuracy: 0.7114 - val_loss: 0.4921 - val_accuracy: 0.7405\n",
            "Epoch 2/100\n",
            "36/36 - 0s - loss: 0.4168 - accuracy: 0.7863 - val_loss: 0.4230 - val_accuracy: 0.7405\n",
            "Epoch 3/100\n",
            "36/36 - 0s - loss: 0.3709 - accuracy: 0.8086 - val_loss: 0.4058 - val_accuracy: 0.7740\n",
            "Epoch 4/100\n",
            "36/36 - 0s - loss: 0.3532 - accuracy: 0.8111 - val_loss: 0.4032 - val_accuracy: 0.7606\n",
            "Epoch 5/100\n",
            "36/36 - 0s - loss: 0.3492 - accuracy: 0.8047 - val_loss: 0.3957 - val_accuracy: 0.7808\n",
            "Epoch 6/100\n",
            "36/36 - 0s - loss: 0.3400 - accuracy: 0.8161 - val_loss: 0.3944 - val_accuracy: 0.7718\n",
            "Epoch 7/100\n",
            "36/36 - 0s - loss: 0.3367 - accuracy: 0.8209 - val_loss: 0.3806 - val_accuracy: 0.7785\n",
            "Epoch 8/100\n",
            "36/36 - 0s - loss: 0.3299 - accuracy: 0.8223 - val_loss: 0.3674 - val_accuracy: 0.7919\n",
            "Epoch 9/100\n",
            "36/36 - 0s - loss: 0.3240 - accuracy: 0.8189 - val_loss: 0.3597 - val_accuracy: 0.7919\n",
            "Epoch 10/100\n",
            "36/36 - 0s - loss: 0.3245 - accuracy: 0.8223 - val_loss: 0.3571 - val_accuracy: 0.7987\n",
            "Epoch 11/100\n",
            "36/36 - 0s - loss: 0.3221 - accuracy: 0.8287 - val_loss: 0.3720 - val_accuracy: 0.7875\n",
            "Epoch 12/100\n",
            "36/36 - 0s - loss: 0.3184 - accuracy: 0.8223 - val_loss: 0.3560 - val_accuracy: 0.8031\n",
            "Epoch 13/100\n",
            "36/36 - 0s - loss: 0.3213 - accuracy: 0.8254 - val_loss: 0.3749 - val_accuracy: 0.7852\n",
            "Epoch 14/100\n",
            "36/36 - 0s - loss: 0.3187 - accuracy: 0.8321 - val_loss: 0.3606 - val_accuracy: 0.8098\n"
          ],
          "name": "stdout"
        },
        {
          "output_type": "execute_result",
          "data": {
            "text/plain": [
              "<tensorflow.python.keras.callbacks.History at 0x7fe60a132780>"
            ]
          },
          "metadata": {
            "tags": []
          },
          "execution_count": 20
        }
      ]
    },
    {
      "cell_type": "code",
      "metadata": {
        "colab": {
          "base_uri": "https://localhost:8080/"
        },
        "id": "3CF5n1ttYnSY",
        "outputId": "69ec87b0-61e4-4dd6-b973-a9e93a98f1bf"
      },
      "source": [
        "### TEST ###\r\n",
        "test_loss, test_accuracy =  model.evaluate(test_inputs,test_target)"
      ],
      "execution_count": 26,
      "outputs": [
        {
          "output_type": "stream",
          "text": [
            "14/14 [==============================] - 0s 1ms/step - loss: 0.3510 - accuracy: 0.8036\n"
          ],
          "name": "stdout"
        }
      ]
    },
    {
      "cell_type": "code",
      "metadata": {
        "colab": {
          "base_uri": "https://localhost:8080/"
        },
        "id": "dRS0XuaYaecf",
        "outputId": "89540527-82a5-4994-cdb5-6d5bed0dc007"
      },
      "source": [
        "test_target.shape"
      ],
      "execution_count": 22,
      "outputs": [
        {
          "output_type": "execute_result",
          "data": {
            "text/plain": [
              "(447,)"
            ]
          },
          "metadata": {
            "tags": []
          },
          "execution_count": 22
        }
      ]
    },
    {
      "cell_type": "code",
      "metadata": {
        "colab": {
          "base_uri": "https://localhost:8080/"
        },
        "id": "8lTkFwlQakbX",
        "outputId": "8f16decb-27bb-4b87-b2d9-205e19314e04"
      },
      "source": [
        "test_inputs.shape\r\n"
      ],
      "execution_count": 24,
      "outputs": [
        {
          "output_type": "execute_result",
          "data": {
            "text/plain": [
              "(448, 10)"
            ]
          },
          "metadata": {
            "tags": []
          },
          "execution_count": 24
        }
      ]
    },
    {
      "cell_type": "code",
      "metadata": {
        "id": "zNgyEo00bI_i"
      },
      "source": [
        "# from google.colab import drive\n",
        "# drive.mount('/content/drive')"
      ],
      "execution_count": 12,
      "outputs": []
    },
    {
      "cell_type": "code",
      "metadata": {
        "id": "rXIDMjNcbLGf"
      },
      "source": [
        ""
      ],
      "execution_count": null,
      "outputs": []
    }
  ]
}
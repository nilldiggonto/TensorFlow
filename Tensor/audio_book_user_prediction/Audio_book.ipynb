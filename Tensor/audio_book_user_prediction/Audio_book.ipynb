{
  "nbformat": 4,
  "nbformat_minor": 0,
  "metadata": {
    "colab": {
      "name": "Audio_book.ipynb",
      "provenance": [],
      "collapsed_sections": []
    },
    "kernelspec": {
      "name": "python3",
      "display_name": "Python 3"
    }
  },
  "cells": [
    {
      "cell_type": "markdown",
      "metadata": {
        "id": "pmtR0TXdgu-8"
      },
      "source": [
        "* Dataset: https://www.kaggle.com/faressayah/audiobook-app-data\r\n",
        "\r\n",
        "* Predicting a metrics to make sure what types of customer will come back again."
      ]
    },
    {
      "cell_type": "code",
      "metadata": {
        "id": "ft9qb-gvhDLZ"
      },
      "source": [
        "#lib\r\n",
        "import numpy as np\r\n",
        "import pandas as pd\r\n",
        "import matplotlib.pyplot as plt\r\n",
        "import tensorflow as tf\r\n",
        "from tensorflow import keras"
      ],
      "execution_count": 1,
      "outputs": []
    },
    {
      "cell_type": "code",
      "metadata": {
        "id": "n7A6qpX0hXA6"
      },
      "source": [
        "raw_data = pd.read_csv('/content/drive/MyDrive/Colab Notebooks/NNN/audiobook_data_2.csv')"
      ],
      "execution_count": 4,
      "outputs": []
    },
    {
      "cell_type": "code",
      "metadata": {
        "colab": {
          "base_uri": "https://localhost:8080/",
          "height": 241
        },
        "id": "mADNLAoqhhAB",
        "outputId": "e1e7eca1-a7df-43b2-cda8-12a6a3b6d9a1"
      },
      "source": [
        "raw_data.head()"
      ],
      "execution_count": 5,
      "outputs": [
        {
          "output_type": "execute_result",
          "data": {
            "text/html": [
              "<div>\n",
              "<style scoped>\n",
              "    .dataframe tbody tr th:only-of-type {\n",
              "        vertical-align: middle;\n",
              "    }\n",
              "\n",
              "    .dataframe tbody tr th {\n",
              "        vertical-align: top;\n",
              "    }\n",
              "\n",
              "    .dataframe thead th {\n",
              "        text-align: right;\n",
              "    }\n",
              "</style>\n",
              "<table border=\"1\" class=\"dataframe\">\n",
              "  <thead>\n",
              "    <tr style=\"text-align: right;\">\n",
              "      <th></th>\n",
              "      <th>Unnamed: 0</th>\n",
              "      <th>Book_length(mins)_overall</th>\n",
              "      <th>Book_length(mins)_avg</th>\n",
              "      <th>Price_overall</th>\n",
              "      <th>Price_avg</th>\n",
              "      <th>Review</th>\n",
              "      <th>Review10/10</th>\n",
              "      <th>Completion</th>\n",
              "      <th>Minutes_listened</th>\n",
              "      <th>Support_Request</th>\n",
              "      <th>Last_Visited_mins_Purchase_date</th>\n",
              "      <th>Target</th>\n",
              "    </tr>\n",
              "  </thead>\n",
              "  <tbody>\n",
              "    <tr>\n",
              "      <th>0</th>\n",
              "      <td>994</td>\n",
              "      <td>1620.0</td>\n",
              "      <td>1620</td>\n",
              "      <td>19.73</td>\n",
              "      <td>19.73</td>\n",
              "      <td>1</td>\n",
              "      <td>10.00</td>\n",
              "      <td>0.99</td>\n",
              "      <td>1603.8</td>\n",
              "      <td>5</td>\n",
              "      <td>92</td>\n",
              "      <td>0</td>\n",
              "    </tr>\n",
              "    <tr>\n",
              "      <th>1</th>\n",
              "      <td>1143</td>\n",
              "      <td>2160.0</td>\n",
              "      <td>2160</td>\n",
              "      <td>5.33</td>\n",
              "      <td>5.33</td>\n",
              "      <td>0</td>\n",
              "      <td>8.91</td>\n",
              "      <td>0.00</td>\n",
              "      <td>0.0</td>\n",
              "      <td>0</td>\n",
              "      <td>0</td>\n",
              "      <td>0</td>\n",
              "    </tr>\n",
              "    <tr>\n",
              "      <th>2</th>\n",
              "      <td>2059</td>\n",
              "      <td>2160.0</td>\n",
              "      <td>2160</td>\n",
              "      <td>5.33</td>\n",
              "      <td>5.33</td>\n",
              "      <td>0</td>\n",
              "      <td>8.91</td>\n",
              "      <td>0.00</td>\n",
              "      <td>0.0</td>\n",
              "      <td>0</td>\n",
              "      <td>388</td>\n",
              "      <td>0</td>\n",
              "    </tr>\n",
              "    <tr>\n",
              "      <th>3</th>\n",
              "      <td>2882</td>\n",
              "      <td>1620.0</td>\n",
              "      <td>1620</td>\n",
              "      <td>5.96</td>\n",
              "      <td>5.96</td>\n",
              "      <td>0</td>\n",
              "      <td>8.91</td>\n",
              "      <td>0.42</td>\n",
              "      <td>680.4</td>\n",
              "      <td>1</td>\n",
              "      <td>129</td>\n",
              "      <td>0</td>\n",
              "    </tr>\n",
              "    <tr>\n",
              "      <th>4</th>\n",
              "      <td>3342</td>\n",
              "      <td>2160.0</td>\n",
              "      <td>2160</td>\n",
              "      <td>5.33</td>\n",
              "      <td>5.33</td>\n",
              "      <td>0</td>\n",
              "      <td>8.91</td>\n",
              "      <td>0.22</td>\n",
              "      <td>475.2</td>\n",
              "      <td>0</td>\n",
              "      <td>361</td>\n",
              "      <td>0</td>\n",
              "    </tr>\n",
              "  </tbody>\n",
              "</table>\n",
              "</div>"
            ],
            "text/plain": [
              "   Unnamed: 0  ...  Target\n",
              "0         994  ...       0\n",
              "1        1143  ...       0\n",
              "2        2059  ...       0\n",
              "3        2882  ...       0\n",
              "4        3342  ...       0\n",
              "\n",
              "[5 rows x 12 columns]"
            ]
          },
          "metadata": {
            "tags": []
          },
          "execution_count": 5
        }
      ]
    },
    {
      "cell_type": "markdown",
      "metadata": {
        "id": "zslFyHQFkbbX"
      },
      "source": [
        "#### Preprocessing"
      ]
    },
    {
      "cell_type": "code",
      "metadata": {
        "id": "7W6j37FFhwno"
      },
      "source": [
        "data = raw_data.copy()\r\n",
        "data.columns = [''] * len(data.columns)"
      ],
      "execution_count": 11,
      "outputs": []
    },
    {
      "cell_type": "code",
      "metadata": {
        "colab": {
          "base_uri": "https://localhost:8080/",
          "height": 187
        },
        "id": "gznKIQVTk8E_",
        "outputId": "f2ee89fe-efce-464c-eccf-8c7682f79146"
      },
      "source": [
        "data.head()"
      ],
      "execution_count": 12,
      "outputs": [
        {
          "output_type": "execute_result",
          "data": {
            "text/html": [
              "<div>\n",
              "<style scoped>\n",
              "    .dataframe tbody tr th:only-of-type {\n",
              "        vertical-align: middle;\n",
              "    }\n",
              "\n",
              "    .dataframe tbody tr th {\n",
              "        vertical-align: top;\n",
              "    }\n",
              "\n",
              "    .dataframe thead th {\n",
              "        text-align: right;\n",
              "    }\n",
              "</style>\n",
              "<table border=\"1\" class=\"dataframe\">\n",
              "  <thead>\n",
              "    <tr style=\"text-align: right;\">\n",
              "      <th></th>\n",
              "      <th></th>\n",
              "      <th></th>\n",
              "      <th></th>\n",
              "      <th></th>\n",
              "      <th></th>\n",
              "      <th></th>\n",
              "      <th></th>\n",
              "      <th></th>\n",
              "      <th></th>\n",
              "      <th></th>\n",
              "      <th></th>\n",
              "      <th></th>\n",
              "    </tr>\n",
              "  </thead>\n",
              "  <tbody>\n",
              "    <tr>\n",
              "      <th>0</th>\n",
              "      <td>994</td>\n",
              "      <td>1620.0</td>\n",
              "      <td>1620</td>\n",
              "      <td>19.73</td>\n",
              "      <td>19.73</td>\n",
              "      <td>1</td>\n",
              "      <td>10.00</td>\n",
              "      <td>0.99</td>\n",
              "      <td>1603.8</td>\n",
              "      <td>5</td>\n",
              "      <td>92</td>\n",
              "      <td>0</td>\n",
              "    </tr>\n",
              "    <tr>\n",
              "      <th>1</th>\n",
              "      <td>1143</td>\n",
              "      <td>2160.0</td>\n",
              "      <td>2160</td>\n",
              "      <td>5.33</td>\n",
              "      <td>5.33</td>\n",
              "      <td>0</td>\n",
              "      <td>8.91</td>\n",
              "      <td>0.00</td>\n",
              "      <td>0.0</td>\n",
              "      <td>0</td>\n",
              "      <td>0</td>\n",
              "      <td>0</td>\n",
              "    </tr>\n",
              "    <tr>\n",
              "      <th>2</th>\n",
              "      <td>2059</td>\n",
              "      <td>2160.0</td>\n",
              "      <td>2160</td>\n",
              "      <td>5.33</td>\n",
              "      <td>5.33</td>\n",
              "      <td>0</td>\n",
              "      <td>8.91</td>\n",
              "      <td>0.00</td>\n",
              "      <td>0.0</td>\n",
              "      <td>0</td>\n",
              "      <td>388</td>\n",
              "      <td>0</td>\n",
              "    </tr>\n",
              "    <tr>\n",
              "      <th>3</th>\n",
              "      <td>2882</td>\n",
              "      <td>1620.0</td>\n",
              "      <td>1620</td>\n",
              "      <td>5.96</td>\n",
              "      <td>5.96</td>\n",
              "      <td>0</td>\n",
              "      <td>8.91</td>\n",
              "      <td>0.42</td>\n",
              "      <td>680.4</td>\n",
              "      <td>1</td>\n",
              "      <td>129</td>\n",
              "      <td>0</td>\n",
              "    </tr>\n",
              "    <tr>\n",
              "      <th>4</th>\n",
              "      <td>3342</td>\n",
              "      <td>2160.0</td>\n",
              "      <td>2160</td>\n",
              "      <td>5.33</td>\n",
              "      <td>5.33</td>\n",
              "      <td>0</td>\n",
              "      <td>8.91</td>\n",
              "      <td>0.22</td>\n",
              "      <td>475.2</td>\n",
              "      <td>0</td>\n",
              "      <td>361</td>\n",
              "      <td>0</td>\n",
              "    </tr>\n",
              "  </tbody>\n",
              "</table>\n",
              "</div>"
            ],
            "text/plain": [
              "                                                                      \n",
              "0   994  1620.0  1620  19.73  19.73  1  10.00  0.99  1603.8  5   92  0\n",
              "1  1143  2160.0  2160   5.33   5.33  0   8.91  0.00     0.0  0    0  0\n",
              "2  2059  2160.0  2160   5.33   5.33  0   8.91  0.00     0.0  0  388  0\n",
              "3  2882  1620.0  1620   5.96   5.96  0   8.91  0.42   680.4  1  129  0\n",
              "4  3342  2160.0  2160   5.33   5.33  0   8.91  0.22   475.2  0  361  0"
            ]
          },
          "metadata": {
            "tags": []
          },
          "execution_count": 12
        }
      ]
    },
    {
      "cell_type": "code",
      "metadata": {
        "colab": {
          "base_uri": "https://localhost:8080/"
        },
        "id": "zkYDmMjXl5F0",
        "outputId": "5c00a2b4-9e5d-4815-b675-113bc0730945"
      },
      "source": [
        "data.shape"
      ],
      "execution_count": 13,
      "outputs": [
        {
          "output_type": "execute_result",
          "data": {
            "text/plain": [
              "(14084, 12)"
            ]
          },
          "metadata": {
            "tags": []
          },
          "execution_count": 13
        }
      ]
    },
    {
      "cell_type": "code",
      "metadata": {
        "colab": {
          "base_uri": "https://localhost:8080/"
        },
        "id": "D2LibdTkl9QV",
        "outputId": "a2c78c65-830a-42f9-c66d-cc4862fee94c"
      },
      "source": [
        "raw_data.shape"
      ],
      "execution_count": 14,
      "outputs": [
        {
          "output_type": "execute_result",
          "data": {
            "text/plain": [
              "(14084, 12)"
            ]
          },
          "metadata": {
            "tags": []
          },
          "execution_count": 14
        }
      ]
    },
    {
      "cell_type": "code",
      "metadata": {
        "id": "XKOsee4mmJkN"
      },
      "source": [
        "#creating Inputs & Targets\r\n",
        "unscaled_inputs = data.iloc[:,1:-1]\r\n",
        "targets = data.iloc[:,-1]"
      ],
      "execution_count": 19,
      "outputs": []
    },
    {
      "cell_type": "code",
      "metadata": {
        "colab": {
          "base_uri": "https://localhost:8080/"
        },
        "id": "nvkPcEv_mU_U",
        "outputId": "a0236f11-0df4-48cc-a948-e10744cfd1eb"
      },
      "source": [
        "unscaled_inputs.shape , targets.shape"
      ],
      "execution_count": 20,
      "outputs": [
        {
          "output_type": "execute_result",
          "data": {
            "text/plain": [
              "((14084, 10), (14084,))"
            ]
          },
          "metadata": {
            "tags": []
          },
          "execution_count": 20
        }
      ]
    },
    {
      "cell_type": "code",
      "metadata": {
        "colab": {
          "base_uri": "https://localhost:8080/"
        },
        "id": "ddG2mPF9moQs",
        "outputId": "50eb2606-8901-4791-d64f-4ac49a72ede8"
      },
      "source": [
        "### BALANCE THE DATASETS ###\r\n",
        "targets.value_counts()"
      ],
      "execution_count": 24,
      "outputs": [
        {
          "output_type": "execute_result",
          "data": {
            "text/plain": [
              "0    11847\n",
              "1     2237\n",
              "Name: , dtype: int64"
            ]
          },
          "metadata": {
            "tags": []
          },
          "execution_count": 24
        }
      ]
    },
    {
      "cell_type": "code",
      "metadata": {
        "id": "dOwM-QvinTD0"
      },
      "source": [
        "#converting to np array\r\n",
        "unscaled_inputs_np = np.array(unscaled_inputs)\r\n",
        "targets_np = np.array(targets)"
      ],
      "execution_count": 25,
      "outputs": []
    },
    {
      "cell_type": "code",
      "metadata": {
        "colab": {
          "base_uri": "https://localhost:8080/"
        },
        "id": "nrVmok5to7cq",
        "outputId": "c3a020bc-57d5-4d29-f810-45538fd2cf5e"
      },
      "source": [
        "int(np.sum(targets_np)) #total 1"
      ],
      "execution_count": 30,
      "outputs": [
        {
          "output_type": "execute_result",
          "data": {
            "text/plain": [
              "2237"
            ]
          },
          "metadata": {
            "tags": []
          },
          "execution_count": 30
        }
      ]
    },
    {
      "cell_type": "code",
      "metadata": {
        "colab": {
          "base_uri": "https://localhost:8080/"
        },
        "id": "MHXa5cnoo8WS",
        "outputId": "db83a501-93a4-408c-c5f9-cd1bc5a20e65"
      },
      "source": [
        "len(targets_np) - int(np.sum(targets_np))  #total 0"
      ],
      "execution_count": 31,
      "outputs": [
        {
          "output_type": "execute_result",
          "data": {
            "text/plain": [
              "11847"
            ]
          },
          "metadata": {
            "tags": []
          },
          "execution_count": 31
        }
      ]
    },
    {
      "cell_type": "code",
      "metadata": {
        "id": "iHfqxnXypTKj"
      },
      "source": [
        "num_one_targets = int(np.sum(targets_np))\r\n",
        "zero_targets_counter = 0\r\n",
        "indices_to_remove = []\r\n",
        "\r\n",
        "for i in range(targets_np.shape[0]):\r\n",
        "  if targets_np[i] == 0:\r\n",
        "    zero_targets_counter +=1\r\n",
        "    if zero_targets_counter > num_one_targets:\r\n",
        "      indices_to_remove.append(i)\r\n",
        "\r\n",
        "unscaled_inputs_balance = np.delete(unscaled_inputs_np, indices_to_remove,axis=0)\r\n",
        "targets_balance = np.delete(targets_np,indices_to_remove,axis=0)"
      ],
      "execution_count": 34,
      "outputs": []
    },
    {
      "cell_type": "code",
      "metadata": {
        "colab": {
          "base_uri": "https://localhost:8080/"
        },
        "id": "ywiO0MzEppG6",
        "outputId": "0c7daa3e-5cb0-4e97-b13e-c28df0426f13"
      },
      "source": [
        "unscaled_inputs_balance.shape, targets_balance.shape"
      ],
      "execution_count": 35,
      "outputs": [
        {
          "output_type": "execute_result",
          "data": {
            "text/plain": [
              "((4474, 10), (4474,))"
            ]
          },
          "metadata": {
            "tags": []
          },
          "execution_count": 35
        }
      ]
    },
    {
      "cell_type": "code",
      "metadata": {
        "colab": {
          "base_uri": "https://localhost:8080/"
        },
        "id": "SUym9bRzps0B",
        "outputId": "a1ae9057-f096-4de6-e0e6-b14e79860a0f"
      },
      "source": [
        "#\r\n",
        "int(np.sum(targets_balance)) #total 1"
      ],
      "execution_count": 36,
      "outputs": [
        {
          "output_type": "execute_result",
          "data": {
            "text/plain": [
              "2237"
            ]
          },
          "metadata": {
            "tags": []
          },
          "execution_count": 36
        }
      ]
    },
    {
      "cell_type": "code",
      "metadata": {
        "colab": {
          "base_uri": "https://localhost:8080/"
        },
        "id": "6OxSrv-RqqAQ",
        "outputId": "52beb0f9-9bc0-4fa0-d809-2fb37cc05080"
      },
      "source": [
        "#\r\n",
        "len(targets_balance) - int(np.sum(targets_balance))  #total 0"
      ],
      "execution_count": 37,
      "outputs": [
        {
          "output_type": "execute_result",
          "data": {
            "text/plain": [
              "2237"
            ]
          },
          "metadata": {
            "tags": []
          },
          "execution_count": 37
        }
      ]
    },
    {
      "cell_type": "code",
      "metadata": {
        "id": "0VcYxECMqvnw"
      },
      "source": [
        "#we got balanced targets and inputs"
      ],
      "execution_count": 38,
      "outputs": []
    },
    {
      "cell_type": "markdown",
      "metadata": {
        "id": "PDebSFV5q4Kx"
      },
      "source": [
        "#### Standardize & Shuffle"
      ]
    },
    {
      "cell_type": "code",
      "metadata": {
        "id": "CIJ92UYNq1JY"
      },
      "source": [
        "from sklearn.preprocessing import scale"
      ],
      "execution_count": 39,
      "outputs": []
    },
    {
      "cell_type": "code",
      "metadata": {
        "id": "bjimYaKrrCbx"
      },
      "source": [
        "scaled_inputs_balance = scale(unscaled_inputs_balance)"
      ],
      "execution_count": 40,
      "outputs": []
    },
    {
      "cell_type": "code",
      "metadata": {
        "id": "iEo6LlT2rHhB"
      },
      "source": [
        "### Shuffle\r\n",
        "shuffled_indices = np.arange(scaled_inputs_balance.shape[0])\r\n",
        "np.random.shuffle(shuffled_indices)\r\n",
        "\r\n",
        "shuffle_inputs = scaled_inputs_balance[shuffled_indices]\r\n",
        "shuffle_target = targets_balance[shuffled_indices]"
      ],
      "execution_count": 41,
      "outputs": []
    },
    {
      "cell_type": "code",
      "metadata": {
        "colab": {
          "base_uri": "https://localhost:8080/"
        },
        "id": "CeJ2t0FvsHEH",
        "outputId": "0c4cbdee-a24a-4e10-e7f7-2ba03cf880a7"
      },
      "source": [
        "scaled_inputs_balance[:5]"
      ],
      "execution_count": 42,
      "outputs": [
        {
          "output_type": "execute_result",
          "data": {
            "text/plain": [
              "array([[ 2.10533868e-01, -1.88885170e-01,  1.97823887e+00,\n",
              "         1.43819814e+00,  2.10780037e+00,  1.49110879e+00,\n",
              "         4.24286158e+00,  4.80955413e+00,  1.18382842e+01,\n",
              "         9.41504310e-02],\n",
              "       [ 1.27894497e+00,  4.16467444e-01, -3.90824747e-01,\n",
              "        -5.08367103e-01, -4.74428231e-01,  1.42655343e-03,\n",
              "        -4.26477846e-01, -4.15699224e-01, -2.01834807e-01,\n",
              "        -8.02558517e-01],\n",
              "       [ 1.27894497e+00,  4.16467444e-01, -3.90824747e-01,\n",
              "        -5.08367103e-01, -4.74428231e-01,  1.42655343e-03,\n",
              "        -4.26477846e-01, -4.15699224e-01, -2.01834807e-01,\n",
              "         2.97921400e+00],\n",
              "       [ 2.10533868e-01, -1.88885170e-01, -2.87178214e-01,\n",
              "        -4.23204874e-01, -4.74428231e-01,  1.42655343e-03,\n",
              "         1.55445403e+00,  1.80107493e+00,  2.20618899e+00,\n",
              "         4.54783377e-01],\n",
              "       [ 1.27894497e+00,  4.16467444e-01, -3.90824747e-01,\n",
              "        -5.08367103e-01, -4.74428231e-01,  1.42655343e-03,\n",
              "         6.11153137e-01,  1.13252399e+00, -2.01834807e-01,\n",
              "         2.71604942e+00]])"
            ]
          },
          "metadata": {
            "tags": []
          },
          "execution_count": 42
        }
      ]
    },
    {
      "cell_type": "code",
      "metadata": {
        "colab": {
          "base_uri": "https://localhost:8080/"
        },
        "id": "zKUVdzB3sJaX",
        "outputId": "c36fd1dc-ef0f-4dfa-8190-966ef47b3d50"
      },
      "source": [
        "shuffle_inputs[:5]"
      ],
      "execution_count": 43,
      "outputs": [
        {
          "output_type": "execute_result",
          "data": {
            "text/plain": [
              "array([[-6.44195015e-01, -6.73167261e-01, -3.90824747e-01,\n",
              "        -5.08367103e-01, -4.74428231e-01,  1.42655343e-03,\n",
              "        -4.26477846e-01, -4.15699224e-01, -2.01834807e-01,\n",
              "        -2.66482515e-01],\n",
              "       [ 2.10533868e-01, -1.88885170e-01,  4.84391317e-02,\n",
              "        -1.47441464e-01, -4.74428231e-01,  1.42655343e-03,\n",
              "        -4.26477846e-01, -4.15699224e-01, -2.01834807e-01,\n",
              "         6.88707451e-01],\n",
              "       [-8.57877235e-01, -7.94237784e-01,  4.84391317e-02,\n",
              "        -1.47441464e-01, -4.74428231e-01,  1.42655343e-03,\n",
              "         4.22492958e-01,  2.17664820e-01, -2.01834807e-01,\n",
              "        -7.73318008e-01],\n",
              "       [-6.44195015e-01, -6.73167261e-01,  3.98863125e-01,\n",
              "         1.40487978e-01,  2.10780037e+00, -1.24225311e+00,\n",
              "         8.46978360e-01,  6.29351448e-01,  2.20618899e+00,\n",
              "        -6.36862298e-01],\n",
              "       [ 2.10533868e-01, -1.88885170e-01,  3.98863125e-01,\n",
              "         1.40487978e-01, -4.74428231e-01,  1.42655343e-03,\n",
              "        -4.26477846e-01, -4.15699224e-01, -2.01834807e-01,\n",
              "        -7.92811680e-01]])"
            ]
          },
          "metadata": {
            "tags": []
          },
          "execution_count": 43
        }
      ]
    },
    {
      "cell_type": "code",
      "metadata": {
        "id": "hplURhZUsN7n"
      },
      "source": [
        "#### TRAIN TEST VALID\r\n",
        "samples_count = shuffle_inputs.shape[0]\r\n",
        "\r\n",
        "train_samples_count = int(0.8* samples_count)\r\n",
        "valid_samples_count = int(0.1 *samples_count)\r\n",
        "test_samples_count = samples_count - train_samples_count - valid_samples_count"
      ],
      "execution_count": 45,
      "outputs": []
    },
    {
      "cell_type": "code",
      "metadata": {
        "id": "pJqm03fItBZu"
      },
      "source": [
        "train_data = shuffle_inputs[:train_samples_count]\r\n",
        "train_target = shuffle_target[:train_samples_count]\r\n",
        "\r\n",
        "#validation\r\n",
        "valid_data = shuffle_inputs[train_samples_count:train_samples_count+valid_samples_count]\r\n",
        "valid_target = shuffle_target[train_samples_count:train_samples_count+valid_samples_count]\r\n",
        "\r\n",
        "#Test\r\n",
        "test_data = shuffle_inputs[train_samples_count+valid_samples_count:]\r\n",
        "test_target = shuffle_target[train_samples_count+valid_samples_count:]"
      ],
      "execution_count": 52,
      "outputs": []
    },
    {
      "cell_type": "code",
      "metadata": {
        "colab": {
          "base_uri": "https://localhost:8080/"
        },
        "id": "8uKQNOM-uAEp",
        "outputId": "4ba00658-66ba-4ebd-b7ff-b096d0b7dfbd"
      },
      "source": [
        "train_data.shape, train_target.shape"
      ],
      "execution_count": 53,
      "outputs": [
        {
          "output_type": "execute_result",
          "data": {
            "text/plain": [
              "((3579, 10), (3579,))"
            ]
          },
          "metadata": {
            "tags": []
          },
          "execution_count": 53
        }
      ]
    },
    {
      "cell_type": "code",
      "metadata": {
        "colab": {
          "base_uri": "https://localhost:8080/"
        },
        "id": "g0a6vedxuEP2",
        "outputId": "831665e0-cd71-4993-9873-eecf4c564be6"
      },
      "source": [
        "valid_data.shape, valid_target.shape"
      ],
      "execution_count": 54,
      "outputs": [
        {
          "output_type": "execute_result",
          "data": {
            "text/plain": [
              "((447, 10), (447,))"
            ]
          },
          "metadata": {
            "tags": []
          },
          "execution_count": 54
        }
      ]
    },
    {
      "cell_type": "code",
      "metadata": {
        "colab": {
          "base_uri": "https://localhost:8080/"
        },
        "id": "sj79f2AmuOIm",
        "outputId": "7414df84-ab9e-4e6d-f612-6b7dd653ced3"
      },
      "source": [
        "test_data.shape,test_target.shape"
      ],
      "execution_count": 55,
      "outputs": [
        {
          "output_type": "execute_result",
          "data": {
            "text/plain": [
              "((448, 10), (448,))"
            ]
          },
          "metadata": {
            "tags": []
          },
          "execution_count": 55
        }
      ]
    },
    {
      "cell_type": "code",
      "metadata": {
        "id": "1ukA-ZiVuQ19"
      },
      "source": [
        "#saving .npz\r\n",
        "np.savez('train_data',inputs= train_data, targets= train_target)\r\n",
        "np.savez('valid_data',inputs= valid_data, targets= valid_data)\r\n",
        "np.savez('test_data',inputs= test_data, targets= test_data)"
      ],
      "execution_count": 56,
      "outputs": []
    },
    {
      "cell_type": "code",
      "metadata": {
        "id": "HmvVC1GUusdf"
      },
      "source": [
        ""
      ],
      "execution_count": null,
      "outputs": []
    }
  ]
}